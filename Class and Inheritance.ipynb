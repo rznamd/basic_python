{
 "cells": [
  {
   "cell_type": "code",
   "execution_count": null,
   "metadata": {},
   "outputs": [],
   "source": []
  },
  {
   "cell_type": "code",
   "execution_count": 1,
   "metadata": {},
   "outputs": [],
   "source": [
    "# 1st Class\n",
    "\n",
    "class MainClass:\n",
    "    \n",
    "    'This is the documentation of MainClass, this is where you can explain what is the class about'\n",
    "    \n",
    "    class_variable_1 = \"This is a class variable\"\n",
    "    class_variable_2 = 100    #this is also a class variable.\n",
    "\n",
    "    def __init__(self, param1=None, param2=None):\n",
    "        \n",
    "        self.instance_var1 = param1 \n",
    "        #instance_var1 is a instance variable\n",
    "        \n",
    "        self.instance_var2 = param2   \n",
    "        #instance_var2 is a instance variable\n",
    "        \n",
    "        self.addition = param1 + param2\n",
    "        #addition is a instance variable        \n",
    "        \n",
    "    def function_instance(self, param3):\n",
    "        \n",
    "        'Documentation for the function_instance'\n",
    "        \n",
    "        self.function_var = param3 + 14        \n",
    "        return self.function_var\n",
    "    \n",
    "    \n",
    "    def __repr__(self):\n",
    "        return '\\n'.join([f'instance_var1: {self.instance_var1}',\n",
    "                          f'instance_var2: {self.instance_var2}',\n",
    "                          f'self.addition: {self.addition}',\n",
    "                          f'self.function_var: {self.function_var}',\n",
    "                        ])"
   ]
  },
  {
   "cell_type": "code",
   "execution_count": 2,
   "metadata": {},
   "outputs": [
    {
     "data": {
      "text/plain": [
       "'This is the documentation of MainClass, this is where you can explain what is the class about'"
      ]
     },
     "execution_count": 2,
     "metadata": {},
     "output_type": "execute_result"
    }
   ],
   "source": [
    "# Looking into documentation of 'MainClass'\n",
    "\n",
    "MainClass.__doc__"
   ]
  },
  {
   "cell_type": "code",
   "execution_count": 3,
   "metadata": {},
   "outputs": [
    {
     "data": {
      "text/plain": [
       "'Documentation for the function_instance'"
      ]
     },
     "execution_count": 3,
     "metadata": {},
     "output_type": "execute_result"
    }
   ],
   "source": [
    "# Looking into documentation of MainClass --> function_instance\n",
    "\n",
    "MainClass.function_instance.__doc__"
   ]
  },
  {
   "cell_type": "code",
   "execution_count": 4,
   "metadata": {},
   "outputs": [],
   "source": [
    "# 2nd class\n",
    "\n",
    "class SubClass:\n",
    "    def create_arr(self): # An instance method\n",
    "        self.arr = []\n",
    "    \n",
    "    def insert_to_arr(self, value):  #An instance method\n",
    "        self.arr.append(value)\n",
    "        \n",
    "    @classmethod\n",
    "    def class_method(cls):\n",
    "        print(\"the class method was called\")"
   ]
  },
  {
   "cell_type": "code",
   "execution_count": 5,
   "metadata": {},
   "outputs": [],
   "source": [
    "# Creating object with MainClass\n",
    "\n",
    "obj_01_MainClass = MainClass(param1=4, param2=2)"
   ]
  },
  {
   "cell_type": "code",
   "execution_count": null,
   "metadata": {},
   "outputs": [],
   "source": [
    "# press 'Tab' after object \n",
    "\n",
    "obj_01_MainClass."
   ]
  },
  {
   "cell_type": "code",
   "execution_count": 6,
   "metadata": {},
   "outputs": [],
   "source": [
    "# Creating object with SubClass\n",
    "\n",
    "obj_01_SubClass = SubClass()"
   ]
  },
  {
   "cell_type": "code",
   "execution_count": null,
   "metadata": {},
   "outputs": [],
   "source": [
    "# press 'Tab' after object \n",
    "\n",
    "obj_01_SubClass."
   ]
  },
  {
   "cell_type": "code",
   "execution_count": 7,
   "metadata": {},
   "outputs": [],
   "source": [
    "def function_to_class(self, param4):\n",
    "    \n",
    "    'Documentation for the function_to_class'\n",
    "    self.new = param4 + 4\n",
    "    return self.new"
   ]
  },
  {
   "cell_type": "code",
   "execution_count": 8,
   "metadata": {},
   "outputs": [],
   "source": [
    "# Adding 'function_to_class' to the classes\n",
    "\n",
    "MainClass.function_to_class = function_to_class\n",
    "SubClass.function_to_class = function_to_class"
   ]
  },
  {
   "cell_type": "code",
   "execution_count": null,
   "metadata": {},
   "outputs": [],
   "source": [
    "# press 'Tab' after object \n",
    "\n",
    "obj_01_MainClass."
   ]
  },
  {
   "cell_type": "code",
   "execution_count": null,
   "metadata": {},
   "outputs": [],
   "source": [
    "# press 'Tab' after object \n",
    "\n",
    "obj_01_SubClass."
   ]
  },
  {
   "cell_type": "code",
   "execution_count": 9,
   "metadata": {},
   "outputs": [],
   "source": [
    "class Father:\n",
    "    \n",
    "    def __init__(self, num1, num2):\n",
    "        \n",
    "        self.number1 = num1\n",
    "        self.number2 = num2\n",
    "        \n",
    "    def action_01(self):\n",
    "        self.number3 = self.number1 + 4\n",
    "        function_variable = self.number1 + self.number2\n",
    "        return (self.number1 * 2) + (self.number2 * 3) + function_variable\n",
    "\n",
    "    def action_02(self):\n",
    "        return self.number1 * self.number2 \n",
    "\n",
    "\n",
    "class Children_01(Father):\n",
    "    \n",
    "    def __init__(self, a=None, b=None, num3=5):       \n",
    "        super().__init__(a, b)\n",
    "        self.number4= num3 * 5"
   ]
  },
  {
   "cell_type": "code",
   "execution_count": 10,
   "metadata": {},
   "outputs": [],
   "source": [
    "class Children_02(Father):\n",
    "        \n",
    "    def action_03(self, num4):\n",
    "        function_variable = (super().action_01() * self.number1) # \n",
    "        function_variable_02 = self.number1 + self.number2\n",
    "        return function_variable + function_variable_02 + num4 "
   ]
  },
  {
   "cell_type": "code",
   "execution_count": 11,
   "metadata": {},
   "outputs": [],
   "source": [
    "# Creating object with Father Class\n",
    "\n",
    "obj_01_Father = Father(2,3)"
   ]
  },
  {
   "cell_type": "code",
   "execution_count": null,
   "metadata": {},
   "outputs": [],
   "source": [
    "# press 'Tab' after object \n",
    "\n",
    "obj_01_Father."
   ]
  },
  {
   "cell_type": "code",
   "execution_count": 12,
   "metadata": {},
   "outputs": [],
   "source": [
    "# Creating object with Childern_01 Class\n",
    "\n",
    "obj_01_Childern_01 = Children_01(a=2,b=3)"
   ]
  },
  {
   "cell_type": "code",
   "execution_count": null,
   "metadata": {},
   "outputs": [],
   "source": [
    "# press 'Tab' after object \n",
    "\n",
    "obj_01_Childern_01."
   ]
  },
  {
   "cell_type": "code",
   "execution_count": 13,
   "metadata": {},
   "outputs": [],
   "source": [
    "# Creating object with Childern_02 Class\n",
    "\n",
    "obj_01_Childern_02 = Children_02(2, 2)"
   ]
  },
  {
   "cell_type": "code",
   "execution_count": null,
   "metadata": {},
   "outputs": [],
   "source": [
    "# press 'Tab' after object \n",
    "\n",
    "obj_01_Childern_02."
   ]
  },
  {
   "cell_type": "code",
   "execution_count": null,
   "metadata": {},
   "outputs": [],
   "source": []
  }
 ],
 "metadata": {
  "kernelspec": {
   "display_name": "Python 3",
   "language": "python",
   "name": "python3"
  },
  "language_info": {
   "codemirror_mode": {
    "name": "ipython",
    "version": 3
   },
   "file_extension": ".py",
   "mimetype": "text/x-python",
   "name": "python",
   "nbconvert_exporter": "python",
   "pygments_lexer": "ipython3",
   "version": "3.7.9"
  }
 },
 "nbformat": 4,
 "nbformat_minor": 4
}
